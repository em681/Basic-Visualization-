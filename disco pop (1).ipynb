{
 "cells": [
  {
   "cell_type": "code",
   "execution_count": 1,
   "id": "f57d7881-89a6-41ef-9b2e-1a7b1fac5587",
   "metadata": {
    "scrolled": true
   },
   "outputs": [
    {
     "name": "stderr",
     "output_type": "stream",
     "text": [
      "<>:3: SyntaxWarning: invalid escape sequence '\\e'\n",
      "<>:3: SyntaxWarning: invalid escape sequence '\\e'\n",
      "C:\\Users\\emart\\AppData\\Local\\Temp\\ipykernel_35416\\2586006626.py:3: SyntaxWarning: invalid escape sequence '\\e'\n",
      "  file_path= \"C:\\\\Users\\emart\\Downloads\\ClassicDisco.csv\"\n"
     ]
    },
    {
     "name": "stdout",
     "output_type": "stream",
     "text": [
      "                               Track            Artist  \\\n",
      "0                 Boogie Oogie Oogie  A Taste Of Honey   \n",
      "1  Disco Dancin' - 2004 - Remastered  A Taste Of Honey   \n",
      "2                            Distant  A Taste Of Honey   \n",
      "3                         Do It Good  A Taste Of Honey   \n",
      "4                        If We Loved  A Taste Of Honey   \n",
      "\n",
      "                              Album  Year  Duration  Time_Signature  \\\n",
      "0                  A Taste Of Honey  1978    245173               4   \n",
      "1                  A Taste Of Honey  1978    210493               4   \n",
      "2                  A Taste Of Honey  1978    260053               4   \n",
      "3  Another Taste (Expanded Edition)  1978    342826               4   \n",
      "4                  A Taste Of Honey  1978    266200               4   \n",
      "\n",
      "   Danceability  Energy  Key  Loudness  Mode  Speechiness  Acousticness  \\\n",
      "0         0.797   0.548    2    -9.228     0       0.0492        0.0401   \n",
      "1         0.751   0.570    2   -11.645     1       0.0813        0.3710   \n",
      "2         0.468   0.512    2   -10.187     1       0.1380        0.7820   \n",
      "3         0.699   0.740    3    -8.625     0       0.0289        0.0714   \n",
      "4         0.463   0.459    6   -11.600     1       0.0296        0.7640   \n",
      "\n",
      "   Instrumentalness  Liveness  Valence    Tempo  Popularity  \n",
      "0          0.000010    0.0994    0.868  123.686          53  \n",
      "1          0.000020    0.1230    0.770  103.408          11  \n",
      "2          0.000020    0.2020    0.714  163.400          13  \n",
      "3          0.000002    0.1650    0.889  104.168          17  \n",
      "4          0.000003    0.1580    0.300  129.267          13  \n"
     ]
    }
   ],
   "source": [
    "import pandas as pd\n",
    "\n",
    "file_path= \"C:\\\\Users\\emart\\Downloads\\ClassicDisco.csv\"\n",
    "df =pd.read_csv(file_path)\n",
    "\n",
    "print(df.head())"
   ]
  },
  {
   "cell_type": "code",
   "execution_count": 2,
   "id": "ccf2863a-d8cc-4494-8a3a-79126718718e",
   "metadata": {},
   "outputs": [
    {
     "name": "stdout",
     "output_type": "stream",
     "text": [
      "<class 'pandas.core.frame.DataFrame'>\n",
      "RangeIndex: 724 entries, 0 to 723\n",
      "Data columns (total 18 columns):\n",
      " #   Column            Non-Null Count  Dtype  \n",
      "---  ------            --------------  -----  \n",
      " 0   Track             724 non-null    object \n",
      " 1   Artist            724 non-null    object \n",
      " 2   Album             724 non-null    object \n",
      " 3   Year              724 non-null    int64  \n",
      " 4   Duration          724 non-null    int64  \n",
      " 5   Time_Signature    724 non-null    int64  \n",
      " 6   Danceability      724 non-null    float64\n",
      " 7   Energy            724 non-null    float64\n",
      " 8   Key               724 non-null    int64  \n",
      " 9   Loudness          724 non-null    float64\n",
      " 10  Mode              724 non-null    int64  \n",
      " 11  Speechiness       724 non-null    float64\n",
      " 12  Acousticness      724 non-null    float64\n",
      " 13  Instrumentalness  724 non-null    float64\n",
      " 14  Liveness          724 non-null    float64\n",
      " 15  Valence           724 non-null    float64\n",
      " 16  Tempo             724 non-null    float64\n",
      " 17  Popularity        724 non-null    int64  \n",
      "dtypes: float64(9), int64(6), object(3)\n",
      "memory usage: 101.9+ KB\n",
      "None\n",
      "Track               0\n",
      "Artist              0\n",
      "Album               0\n",
      "Year                0\n",
      "Duration            0\n",
      "Time_Signature      0\n",
      "Danceability        0\n",
      "Energy              0\n",
      "Key                 0\n",
      "Loudness            0\n",
      "Mode                0\n",
      "Speechiness         0\n",
      "Acousticness        0\n",
      "Instrumentalness    0\n",
      "Liveness            0\n",
      "Valence             0\n",
      "Tempo               0\n",
      "Popularity          0\n",
      "dtype: int64\n",
      "              Year      Duration  Time_Signature  Danceability      Energy  \\\n",
      "count   724.000000  7.240000e+02      724.000000    724.000000  724.000000   \n",
      "mean   1977.872928  3.013971e+05        3.970994      0.691912    0.665481   \n",
      "std       4.126678  1.000937e+05        0.175981      0.127139    0.176193   \n",
      "min    1967.000000  1.270530e+05        3.000000      0.293000    0.034800   \n",
      "25%    1976.000000  2.306595e+05        4.000000      0.618750    0.549750   \n",
      "50%    1978.000000  2.808165e+05        4.000000      0.708000    0.689000   \n",
      "75%    1980.000000  3.534562e+05        4.000000      0.784000    0.805750   \n",
      "max    2020.000000  1.008533e+06        5.000000      0.980000    0.985000   \n",
      "\n",
      "              Key    Loudness        Mode  Speechiness  Acousticness  \\\n",
      "count  724.000000  724.000000  724.000000   724.000000    724.000000   \n",
      "mean     5.356354  -10.043793    0.574586     0.060252      0.193440   \n",
      "std      3.741299    3.130664    0.494747     0.038666      0.217953   \n",
      "min      0.000000  -23.920000    0.000000     0.023200      0.000017   \n",
      "25%      2.000000  -12.124500    0.000000     0.036500      0.028400   \n",
      "50%      5.000000   -9.701000    1.000000     0.049300      0.111000   \n",
      "75%      9.000000   -7.635750    1.000000     0.069600      0.278250   \n",
      "max     11.000000   -3.384000    1.000000     0.386000      0.962000   \n",
      "\n",
      "       Instrumentalness    Liveness     Valence       Tempo  Popularity  \n",
      "count        724.000000  724.000000  724.000000  724.000000  724.000000  \n",
      "mean           0.094249    0.173522    0.762259  118.746369   32.486188  \n",
      "std            0.216858    0.163982    0.192723   18.784116   19.201734  \n",
      "min            0.000000    0.017300    0.085500   63.103000    0.000000  \n",
      "25%            0.000012    0.070600    0.671000  108.563000   17.000000  \n",
      "50%            0.000747    0.106000    0.821500  118.718000   30.500000  \n",
      "75%            0.032700    0.224250    0.909000  126.461250   47.000000  \n",
      "max            0.941000    0.984000    0.984000  203.669000   85.000000  \n"
     ]
    }
   ],
   "source": [
    "print(df.info())\n",
    "print(df.isnull().sum())\n",
    "print(df.describe())"
   ]
  },
  {
   "cell_type": "code",
   "execution_count": 3,
   "id": "2b2eae4b-0da0-4070-9857-1ea6b096d4b8",
   "metadata": {},
   "outputs": [],
   "source": [
    "from sklearn.preprocessing import LabelEncoder"
   ]
  },
  {
   "cell_type": "code",
   "execution_count": 4,
   "id": "05c6086a-6295-4d3f-a937-ab2c382dc2ea",
   "metadata": {},
   "outputs": [],
   "source": [
    "df['artist_encoded'] =  LabelEncoder().fit_transform(df['Artist'])\n",
    "df['key_encoded'] = LabelEncoder().fit_transform(df['Key'])\n",
    "\n",
    "df.drop(['Artist', 'Key'], axis=1, inplace=True)\n",
    "                                                     "
   ]
  },
  {
   "cell_type": "code",
   "execution_count": 5,
   "id": "c8d73198-8ba4-451c-af0b-8f83bba4ab06",
   "metadata": {},
   "outputs": [],
   "source": [
    "from sklearn.model_selection import train_test_split"
   ]
  },
  {
   "cell_type": "code",
   "execution_count": 6,
   "id": "5d1731d8-c5f6-46f8-80ff-50c41d6e0da8",
   "metadata": {},
   "outputs": [],
   "source": [
    "X= df[['artist_encoded', 'Year', 'Duration', 'Danceability', 'Energy', 'Loudness', 'Time_Signature', 'Liveness', 'Tempo', 'key_encoded']]\n",
    "y= df['Popularity']"
   ]
  },
  {
   "cell_type": "code",
   "execution_count": 7,
   "id": "adc6d50c-2b93-4580-b5f6-e0a7b099eb59",
   "metadata": {},
   "outputs": [],
   "source": [
    "from sklearn.model_selection import train_test_split\n",
    "\n",
    "X_train, X_test, y_train, y_test = train_test_split(X, y, test_size=0.2, random_state=42)"
   ]
  },
  {
   "cell_type": "code",
   "execution_count": 8,
   "id": "9eb5f6b2-0f2f-4f22-af6b-4a767b2ed833",
   "metadata": {},
   "outputs": [],
   "source": [
    "from sklearn.linear_model import LinearRegression\n",
    "from sklearn.metrics import mean_squared_error, r2_score"
   ]
  },
  {
   "cell_type": "code",
   "execution_count": 9,
   "id": "e011789e-7644-4bc9-9032-e40d40207c48",
   "metadata": {},
   "outputs": [
    {
     "name": "stdout",
     "output_type": "stream",
     "text": [
      "Mean Squared Error: 389.16099119306506\n",
      "R^2 Score: 0.0354897929933089\n"
     ]
    }
   ],
   "source": [
    "from sklearn.metrics import mean_squared_error, r2_score\n",
    "\n",
    "model = LinearRegression()\n",
    "model.fit(X_train,y_train)\n",
    "\n",
    "y_pred = model.predict(X_test)\n",
    "\n",
    "print('Mean Squared Error:', mean_squared_error(y_test, y_pred))\n",
    "print(\"R^2 Score:\", r2_score(y_test, y_pred))"
   ]
  },
  {
   "cell_type": "code",
   "execution_count": 10,
   "id": "50cd11bc-4500-4c12-924d-add92dcddeb4",
   "metadata": {},
   "outputs": [
    {
     "name": "stdout",
     "output_type": "stream",
     "text": [
      "Requirement already satisfied: scikit-learn in c:\\users\\emart\\anaconda3\\lib\\site-packages (1.5.1)Note: you may need to restart the kernel to use updated packages.\n",
      "\n",
      "Requirement already satisfied: numpy>=1.19.5 in c:\\users\\emart\\anaconda3\\lib\\site-packages (from scikit-learn) (1.26.4)\n",
      "Requirement already satisfied: scipy>=1.6.0 in c:\\users\\emart\\anaconda3\\lib\\site-packages (from scikit-learn) (1.13.1)\n",
      "Requirement already satisfied: joblib>=1.2.0 in c:\\users\\emart\\anaconda3\\lib\\site-packages (from scikit-learn) (1.4.2)\n",
      "Requirement already satisfied: threadpoolctl>=3.1.0 in c:\\users\\emart\\anaconda3\\lib\\site-packages (from scikit-learn) (3.5.0)\n"
     ]
    }
   ],
   "source": [
    "pip install scikit-learn"
   ]
  },
  {
   "cell_type": "code",
   "execution_count": 11,
   "id": "e74ebdc8-4736-4920-be09-ff690d8a7f22",
   "metadata": {},
   "outputs": [],
   "source": [
    "from sklearn.ensemble import GradientBoostingRegressor\n",
    "from sklearn.model_selection import train_test_split\n",
    "from sklearn.metrics import mean_squared_error, r2_score"
   ]
  },
  {
   "cell_type": "code",
   "execution_count": 12,
   "id": "d56df74d-a92e-4925-af9f-01ba9a9cc5d8",
   "metadata": {},
   "outputs": [],
   "source": [
    "from sklearn.preprocessing import LabelEncoder\n",
    "\n",
    "encoder = LabelEncoder()\n",
    "df['Energy'] = encoder.fit_transform(df['Energy'])\n",
    "df['Danceability'] = encoder.fit_transform(df['Danceability'])\n",
    "df['artist_encoded'] = encoder.fit_transform(df['artist_encoded'])\n",
    "df['Instrumentalness'] = encoder.fit_transform(df['Instrumentalness'])\n",
    "\n",
    "\n",
    "X = df.drop(columns=['Energy', 'Danceability', 'Instrumentalness','artist_encoded'])  # Corrected to use a list\n",
    "y = df['Popularity']"
   ]
  },
  {
   "cell_type": "code",
   "execution_count": 13,
   "id": "a3f302d6-25d3-4a64-a301-1a475117e1ae",
   "metadata": {},
   "outputs": [],
   "source": [
    "from xgboost import XGBRegressor"
   ]
  },
  {
   "cell_type": "code",
   "execution_count": null,
   "id": "6aaf71e6-8f16-499c-ace6-94d69ae47f93",
   "metadata": {},
   "outputs": [],
   "source": [
    "from sklearn.ensemble import GradientBoostingRegressor\n",
    "from sklearn.model_selection import GridSearchCV\n",
    "\n",
    "gbr = GradientBoostingRegressor()\n",
    "\n",
    "param_grid = {\n",
    "    'n_estimators': [150, 250, 300],\n",
    "    'max_depth': [3, 5, 7],\n",
    "    'learning_rate': [0.01, 0.05, 0.1]\n",
    "}\n",
    "\n",
    "grid_search = GridSearchCV(estimator=gbr, param_grid=param_grid, scoring='r2', cv=3)\n",
    "grid_search.fit(X_train, y_train)\n",
    "\n",
    "best_model = grid_search.best_estimator_\n",
    "y_pred = best_model.predict(X_test)\n",
    "\n",
    "from sklearn.metrics import mean_squared_error, r2_score\n",
    "print('Mean Squared Error:', mean_squared_error(y_test, y_pred))\n",
    "print(\"R^2 Score:\", r2_score(y_test, y_pred))"
   ]
  },
  {
   "cell_type": "code",
   "execution_count": null,
   "id": "db342d39-9420-4a62-893a-f7e27ba4d407",
   "metadata": {},
   "outputs": [],
   "source": [
    "y_pred = model.predict(X_test)"
   ]
  },
  {
   "cell_type": "code",
   "execution_count": null,
   "id": "e61b29de-5518-45d4-a492-34770cdb974a",
   "metadata": {},
   "outputs": [],
   "source": [
    "mse = mean_squared_error(y_test, y_pred)\n",
    "print('Mean Squared Error:', mse)\n",
    "r2 = r2_score(y_test, y_pred)\n",
    "print(\"R^2 Score:\", r2)"
   ]
  },
  {
   "cell_type": "code",
   "execution_count": null,
   "id": "89390a76-3859-4dd0-8b2c-be10b846cc1f",
   "metadata": {},
   "outputs": [],
   "source": []
  }
 ],
 "metadata": {
  "kernelspec": {
   "display_name": "Python 3 (ipykernel)",
   "language": "python",
   "name": "python3"
  },
  "language_info": {
   "codemirror_mode": {
    "name": "ipython",
    "version": 3
   },
   "file_extension": ".py",
   "mimetype": "text/x-python",
   "name": "python",
   "nbconvert_exporter": "python",
   "pygments_lexer": "ipython3",
   "version": "3.12.7"
  }
 },
 "nbformat": 4,
 "nbformat_minor": 5
}
