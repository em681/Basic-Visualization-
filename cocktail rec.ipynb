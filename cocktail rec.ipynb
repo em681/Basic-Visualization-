{
 "cells": [
  {
   "cell_type": "code",
   "execution_count": 45,
   "id": "f82af8f7-8db9-47f1-819f-6788739e082f",
   "metadata": {},
   "outputs": [
    {
     "name": "stdin",
     "output_type": "stream",
     "text": [
      "Drink Type (Alcoholic or Non-Alcoholic):  Alcoholic\n",
      "Glass Type Preference if you do not have any type in \"any\" (e.g., Cocktail glass, Highball glass):  any\n",
      "Please type in two preferred ingredients (separated by a comma):  lime\n"
     ]
    },
    {
     "name": "stdout",
     "output_type": "stream",
     "text": [
      "\n",
      "Here are 3 drink recommendations for you:\n",
      "\n",
      "Drink Name: Acapulco\n",
      "Glass Type: Old-fashioned glass\n",
      "Ingredients: ['Light rum', 'Triple sec', 'Lime juice', 'Sugar', 'Egg white', 'Mint']\n"
     ]
    },
    {
     "data": {
      "text/html": [
       "<img src=\"https://www.thecocktaildb.com/images/media/drink/il9e0r1582478841.jpg\"/>"
      ],
      "text/plain": [
       "<IPython.core.display.Image object>"
      ]
     },
     "metadata": {},
     "output_type": "display_data"
    },
    {
     "name": "stdout",
     "output_type": "stream",
     "text": [
      "\n",
      "Drink Name: Autodafé\n",
      "Glass Type: Highball glass\n",
      "Ingredients: ['Vodka', 'Lime juice', 'Soda water']\n"
     ]
    },
    {
     "data": {
      "text/html": [
       "<img src=\"https://www.thecocktaildb.com/images/media/drink/7dkf0i1487602928.jpg\"/>"
      ],
      "text/plain": [
       "<IPython.core.display.Image object>"
      ]
     },
     "metadata": {},
     "output_type": "display_data"
    },
    {
     "name": "stdout",
     "output_type": "stream",
     "text": [
      "\n",
      "Drink Name: Barracuda\n",
      "Glass Type: Margarita glass\n",
      "Ingredients: ['Rum', 'Galliano', 'Pineapple Juice', 'Lime Juice', 'Prosecco']\n"
     ]
    },
    {
     "data": {
      "text/html": [
       "<img src=\"https://www.thecocktaildb.com/images/media/drink/jwmr1x1504372337.jpg\"/>"
      ],
      "text/plain": [
       "<IPython.core.display.Image object>"
      ]
     },
     "metadata": {},
     "output_type": "display_data"
    }
   ],
   "source": [
    "import pandas as pd\n",
    "from IPython.display import display, Image\n",
    "\n",
    "df = pd.read_csv(r\"C:\\\\Users\\emart\\Downloads\\final_cocktails.csv\")\n",
    "\n",
    "def recommend_drinks():\n",
    "    # Step 1: Get user inputs\n",
    "    drink_type = input(\"Drink Type (Alcoholic or Non-Alcoholic): \").strip()\n",
    "    glass_type = input('Glass Type Preference if you do not have any type in \"any\" (e.g., Cocktail glass, Highball glass): ').strip()\n",
    "    ingredients = input(\"Please type in two preferred ingredients (separated by a comma): \").strip()\n",
    "    \n",
    "    ingredients_list = [i.strip() for i in ingredients.split(',') if i.strip()]\n",
    "    if len(ingredients_list) < 1:\n",
    "        print(\"Please provide at least two ingredients.\")\n",
    "        return\n",
    "    \n",
    "    filtered_df = df.copy()\n",
    "\n",
    "    filtered_df = filtered_df[filtered_df['alcoholic'].str.contains(drink_type, case=False, na=False)]\n",
    "\n",
    "    if glass_type.lower() != \"any\":\n",
    "        filtered_df = filtered_df[filtered_df['Glass'].str.contains(glass_type, case=False, na=False)]\n",
    "\n",
    "    for ingredient in ingredients_list:\n",
    "        filtered_df = filtered_df[filtered_df['ingredients'].str.contains(ingredient, case=False, na=False)]\n",
    "\n",
    "    if not filtered_df.empty:\n",
    "        print(\"\\nHere are 3 drink recommendations for you:\")\n",
    "        recommendations = filtered_df.head(3)  # Limit to 3 results\n",
    "        for index, row in recommendations.iterrows():\n",
    "            print(f\"\\nDrink Name: {row['name']}\")\n",
    "            print(f\"Glass Type: {row['glassType']}\")\n",
    "            print(f\"Ingredients: {row['ingredients']}\")\n",
    "            display(Image(url=row['drinkThumbnail']))\n",
    "    else:\n",
    "        print(\"No drinks match your criteria. Try different options.\")\n",
    "\n",
    "recommend_drinks()\n",
    "    \n",
    "   "
   ]
  },
  {
   "cell_type": "code",
   "execution_count": null,
   "id": "2f789a1f-8896-4611-a711-77be96ba826b",
   "metadata": {},
   "outputs": [],
   "source": []
  },
  {
   "cell_type": "code",
   "execution_count": null,
   "id": "7d22071c-8462-4f83-acba-c71e61def11d",
   "metadata": {},
   "outputs": [],
   "source": []
  }
 ],
 "metadata": {
  "kernelspec": {
   "display_name": "Python 3 (ipykernel)",
   "language": "python",
   "name": "python3"
  },
  "language_info": {
   "codemirror_mode": {
    "name": "ipython",
    "version": 3
   },
   "file_extension": ".py",
   "mimetype": "text/x-python",
   "name": "python",
   "nbconvert_exporter": "python",
   "pygments_lexer": "ipython3",
   "version": "3.12.7"
  }
 },
 "nbformat": 4,
 "nbformat_minor": 5
}
